{
 "cells": [
  {
   "cell_type": "code",
   "execution_count": 1,
   "metadata": {
    "collapsed": false
   },
   "outputs": [],
   "source": [
    "%matplotlib inline\n",
    "import numpy as np\n",
    "import pandas as pd\n",
    "import KF1\n",
    "import KF2\n",
    "import KF_Paper\n",
    "import KF_PaperUni"
   ]
  },
  {
   "cell_type": "markdown",
   "metadata": {},
   "source": [
    "# Kalman filter\n",
    "\n",
    "Based on Durbin Koopman\n",
    "\n",
    "\n",
    "For generic state-space systems like (Hamilton's notation):\n",
    "\n",
    "\n",
    "\n",
    "$$\\underset{(p \\times 1)}{y_t} = \\underset{(p \\times m)}{Z_t} \\underset{(m \\times 1)}{\\alpha_t} + \\underset{(p \\times 1)}{\\epsilon_t}, \\qquad \\epsilon_t \\sim N(0,\\underset{(p \\times p)}{H_t}) $$\n",
    "\n",
    "$$\\underset{(m \\times 1)}{\\alpha_{t+1}} = \\underset{(m \\times m)}{T_t} \n",
    "\\underset{(m \\times 1)}{\\alpha_{t}} + \\underset{(m \\times r)}{R_t} \\underset{(r \\times r)}{\\eta_t}, \\qquad \\eta_t \\sim N(0,\\underset{(r \\times \\ r)}{Q_t})$$\n",
    "\n",
    "\n",
    "$$\\alpha_1 \\sim N(a_1,\\underset{(m \\times m)}{P_1})$$\n",
    "\n",
    "Where\n",
    "\n",
    "* $p$ is the number of observed variables\n",
    "* $m$ is the number of latent states\n",
    "* $r$ is the number of disturbances (?)\n"
   ]
  },
  {
   "cell_type": "markdown",
   "metadata": {},
   "source": [
    "# Dummy data for the KF with non time-varying parameters\n",
    "\n",
    "## Local Level model\n",
    "\n",
    "$$ y_t = \\mu_t + \\epsilon_t, \\qquad \\epsilon \\sim NID(0, \\sigma^2_ \\epsilon) $$\n",
    "$$ \\mu_{t+1} = \\mu_t + \\eta_t, \\qquad \\eta_t \\sim NID(0,\\sigma^2_ \\eta) $$"
   ]
  },
  {
   "cell_type": "markdown",
   "metadata": {},
   "source": [
    "# Dummy data"
   ]
  },
  {
   "cell_type": "code",
   "execution_count": 2,
   "metadata": {
    "collapsed": false
   },
   "outputs": [],
   "source": [
    "# PARAMETERS\n",
    "m = 2\n",
    "p = 4\n",
    "\n",
    "\n",
    "Z = [[0.3,0.7],[0.1,0],[0.5,0.5],[0,0.3]]\n",
    "\n",
    "\n",
    "Z = pd.DataFrame(Z)\n",
    "\n",
    "H = pd.DataFrame(np.diag([1.0,2.0,3.0,4.0]))\n",
    "\n",
    "\n",
    "T = pd.DataFrame(np.identity(2))\n",
    "R = pd.DataFrame(np.identity(2))\n",
    "\n",
    "Q = pd.DataFrame(np.diag([0.2,0.4]))\n",
    "\n",
    "# GENERATE DATA\n",
    "\n",
    "n = 10000 #sample size\n",
    "mut = [np.array([1,10]).reshape(m,1)]\n",
    "yt = [np.array([0,0,0,0]).reshape(p,1)]\n",
    "\n",
    "for i in range(0,1000):\n",
    "    \n",
    "    temp = np.multiply(np.random.randn(m,1),np.diag(Q).reshape((m,1)))\n",
    "    temp = R.dot(temp)\n",
    "    temp = temp + mut[i]\n",
    "    mut.append(temp)  \n",
    "    \n",
    "    temp = np.multiply(np.random.randn(p,1),np.diag(H).reshape((p,1)))\n",
    "    yt.append(temp+Z.dot(mut[i+1]))\n",
    "\n",
    "    \n",
    "yt[0] = pd.DataFrame(yt[0])   \n",
    "y = pd.concat(yt,axis=1).T.reset_index(drop=True)\n",
    "mut[0] = pd.DataFrame(mut[0])\n",
    "mut = pd.concat(mut,axis=1).T.reset_index(drop=True)\n",
    "\n",
    "# GENERATE PARTIAL NULL\n",
    "\n",
    "nny = y.copy()\n",
    "probNan= 0.70\n",
    "for i in nny.index:\n",
    "    ran = np.random.uniform(size=nny.iloc[i].shape)\n",
    "    nny.iloc[i][ran<probNan] = np.nan\n",
    "    \n",
    "    \n",
    "# GENERATE WHOLE NULL\n",
    "\n",
    "wny = y.copy()\n",
    "probNan= 0.50\n",
    "for i in wny.index:\n",
    "    ran = np.random.uniform(size=(1))\n",
    "    if ran < probNan:\n",
    "        wny.iloc[i] = np.nan\n"
   ]
  },
  {
   "cell_type": "code",
   "execution_count": 3,
   "metadata": {
    "collapsed": true
   },
   "outputs": [],
   "source": [
    "y = np.array(y)\n",
    "nny = np.array(nny)\n",
    "wny = np.array(wny)\n",
    "Z = np.array(Z)\n",
    "H = np.array(H)\n",
    "T = np.array(T)\n",
    "R = np.array(R)\n",
    "Q = np.array(Q)\n",
    "\n",
    "#a1 = (m x 1)\n",
    "a1 = np.zeros(m)\n",
    "#P1 = (m x m)\n",
    "P1 = np.diag(np.ones(m)*1.0)"
   ]
  },
  {
   "cell_type": "markdown",
   "metadata": {},
   "source": [
    "# Testing the KFs"
   ]
  },
  {
   "cell_type": "code",
   "execution_count": 4,
   "metadata": {
    "collapsed": false
   },
   "outputs": [
    {
     "data": {
      "text/plain": [
       "<matplotlib.axes._subplots.AxesSubplot at 0x24deb3112b0>"
      ]
     },
     "execution_count": 4,
     "metadata": {},
     "output_type": "execute_result"
    },
    {
     "data": {
      "image/png": "[encoded data removed]",
      "text/plain": [
       "<matplotlib.figure.Figure at 0x24dedcdd5f8>"
      ]
     },
     "metadata": {},
     "output_type": "display_data"
    }
   ],
   "source": [
    "ret = KF2.KalmanFilter(\n",
    "    y = y,\n",
    "#     y = wny,\n",
    "#     y = nny,\n",
    "    Z = Z,\n",
    "    H = H,\n",
    "    T = T,\n",
    "    R = R,\n",
    "    Q = Q,\n",
    "    a1 = a1,\n",
    "    P1 = P1,\n",
    ")\n",
    "\n",
    "vy = pd.DataFrame(y)\n",
    "\n",
    "i = 0\n",
    "\n",
    "pd.concat([vy[i], ret[i]], axis=1).plot()\n"
   ]
  },
  {
   "cell_type": "code",
   "execution_count": 5,
   "metadata": {
    "collapsed": false
   },
   "outputs": [
    {
     "data": {
      "text/plain": [
       "(1001, 4)"
      ]
     },
     "execution_count": 5,
     "metadata": {},
     "output_type": "execute_result"
    }
   ],
   "source": [
    "ret.shape"
   ]
  },
  {
   "cell_type": "code",
   "execution_count": 6,
   "metadata": {
    "collapsed": false
   },
   "outputs": [
    {
     "data": {
      "text/plain": [
       "<matplotlib.axes._subplots.AxesSubplot at 0x24dee0a2860>"
      ]
     },
     "execution_count": 6,
     "metadata": {},
     "output_type": "execute_result"
    },
    {
     "data": {
      "image/png": "[encoded data removed]",
      "text/plain": [
       "<matplotlib.figure.Figure at 0x24dee09b9e8>"
      ]
     },
     "metadata": {},
     "output_type": "display_data"
    }
   ],
   "source": [
    "ret = KF1.KalmanFilter(\n",
    "    y = y,\n",
    "#     y = wny,\n",
    "#     y = nny,\n",
    "    Z = Z,\n",
    "    H = H,\n",
    "    T = T,\n",
    "    R = R,\n",
    "    Q = Q,\n",
    "    a1 = a1,\n",
    "    P1 = P1,\n",
    ")\n",
    "\n",
    "vy = pd.DataFrame(y)\n",
    "\n",
    "i = 0\n",
    "\n",
    "pd.concat([vy[i], ret[i]], axis=1).plot()\n"
   ]
  },
  {
   "cell_type": "code",
   "execution_count": 7,
   "metadata": {
    "collapsed": false
   },
   "outputs": [
    {
     "data": {
      "text/plain": [
       "<matplotlib.axes._subplots.AxesSubplot at 0x24dee0a3e80>"
      ]
     },
     "execution_count": 7,
     "metadata": {},
     "output_type": "execute_result"
    },
    {
     "data": {
      "image/png": "[encoded data removed]",
      "text/plain": [
       "<matplotlib.figure.Figure at 0x24dee938278>"
      ]
     },
     "metadata": {},
     "output_type": "display_data"
    }
   ],
   "source": [
    "ret = KF_PaperUni.KalmanFilter(\n",
    "    y = y,\n",
    "#     y = wny,\n",
    "#     y = nny,\n",
    "    Z = Z,\n",
    "    H = H,\n",
    "    T = T,\n",
    "    R = R,\n",
    "    Q = Q,\n",
    "    a1 = a1,\n",
    "    P1 = P1,\n",
    "    nStates = a1.shape[0],\n",
    "    export=True\n",
    ")\n",
    "\n",
    "vy = pd.DataFrame(y)\n",
    "\n",
    "i = 0\n",
    "\n",
    "ret = ret['yhat']\n",
    "\n",
    "pd.concat([vy[i], ret[i]], axis=1).plot()"
   ]
  },
  {
   "cell_type": "markdown",
   "metadata": {
    "collapsed": true
   },
   "source": [
    "# Performance"
   ]
  },
  {
   "cell_type": "code",
   "execution_count": 8,
   "metadata": {
    "collapsed": false
   },
   "outputs": [
    {
     "name": "stdout",
     "output_type": "stream",
     "text": [
      "10 loops, best of 3: 111 ms per loop\n"
     ]
    }
   ],
   "source": [
    "%%timeit\n",
    "\n",
    "ret = KF_Paper.KalmanFilter(\n",
    "#     y = y,\n",
    "#     y = wny,\n",
    "    y = nny,\n",
    "    Z = Z,\n",
    "    H = H,\n",
    "    T = T,\n",
    "    R = R,\n",
    "    Q = Q,\n",
    "    a1 = a1,\n",
    "    P1 = P1,\n",
    "    nStates = a1.shape[0]\n",
    ")"
   ]
  },
  {
   "cell_type": "code",
   "execution_count": 9,
   "metadata": {
    "collapsed": false
   },
   "outputs": [
    {
     "name": "stdout",
     "output_type": "stream",
     "text": [
      "10 loops, best of 3: 98.2 ms per loop\n"
     ]
    }
   ],
   "source": [
    "%%timeit\n",
    "\n",
    "ret = KF_PaperUni.KalmanFilter(\n",
    "#     y = y,\n",
    "#     y = wny,\n",
    "    y = nny,\n",
    "    Z = Z,\n",
    "    H = H,\n",
    "    T = T,\n",
    "    R = R,\n",
    "    Q = Q,\n",
    "    a1 = a1,\n",
    "    P1 = P1,\n",
    "    nStates = a1.shape[0],\n",
    "    export=True\n",
    ")"
   ]
  },
  {
   "cell_type": "code",
   "execution_count": 10,
   "metadata": {
    "collapsed": false
   },
   "outputs": [
    {
     "name": "stdout",
     "output_type": "stream",
     "text": [
      "10 loops, best of 3: 137 ms per loop\n"
     ]
    }
   ],
   "source": [
    "%%timeit\n",
    "\n",
    "ret = KF1.KalmanFilter(\n",
    "#     y = y,\n",
    "#     y = wny,\n",
    "    y = nny,\n",
    "    Z = Z,\n",
    "    H = H,\n",
    "    T = T,\n",
    "    R = R,\n",
    "    Q = Q,\n",
    "    a1 = a1,\n",
    "    P1 = P1,\n",
    ")"
   ]
  },
  {
   "cell_type": "code",
   "execution_count": 11,
   "metadata": {
    "collapsed": false
   },
   "outputs": [
    {
     "name": "stdout",
     "output_type": "stream",
     "text": [
      "10 loops, best of 3: 147 ms per loop\n"
     ]
    }
   ],
   "source": [
    "%%timeit\n",
    "\n",
    "ret = KF2.KalmanFilter(\n",
    "#     y = y,\n",
    "#     y = wny,\n",
    "    y = nny,\n",
    "    Z = Z,\n",
    "    H = H,\n",
    "    T = T,\n",
    "    R = R,\n",
    "    Q = Q,\n",
    "    a1 = a1,\n",
    "    P1 = P1,\n",
    ")"
   ]
  },
  {
   "cell_type": "code",
   "execution_count": 13,
   "metadata": {
    "collapsed": false
   },
   "outputs": [],
   "source": [
    "v1 = np.random.rand(2,2)\n",
    "v2 = np.random.rand(2,2)"
   ]
  },
  {
   "cell_type": "code",
   "execution_count": 17,
   "metadata": {
    "collapsed": false
   },
   "outputs": [
    {
     "name": "stdout",
     "output_type": "stream",
     "text": [
      "The slowest run took 9.01 times longer than the fastest. This could mean that an intermediate result is being cached.\n",
      "100000 loops, best of 3: 3.14 µs per loop\n"
     ]
    }
   ],
   "source": [
    "%%timeit \n",
    "\n",
    "v1.dot(v2.dot(v1.dot(v2)))"
   ]
  },
  {
   "cell_type": "code",
   "execution_count": 18,
   "metadata": {
    "collapsed": false
   },
   "outputs": [
    {
     "name": "stdout",
     "output_type": "stream",
     "text": [
      "The slowest run took 4.67 times longer than the fastest. This could mean that an intermediate result is being cached.\n",
      "10000 loops, best of 3: 32.9 µs per loop\n"
     ]
    }
   ],
   "source": [
    "%%timeit\n",
    "\n",
    "np.linalg.multi_dot([v1,v2,v1,v2])"
   ]
  },
  {
   "cell_type": "code",
   "execution_count": null,
   "metadata": {
    "collapsed": true
   },
   "outputs": [],
   "source": []
  }
 ],
 "metadata": {
  "anaconda-cloud": {},
  "kernelspec": {
   "display_name": "Python [Root]",
   "language": "python",
   "name": "Python [Root]"
  },
  "language_info": {
   "codemirror_mode": {
    "name": "ipython",
    "version": 3
   },
   "file_extension": ".py",
   "mimetype": "text/x-python",
   "name": "python",
   "nbconvert_exporter": "python",
   "pygments_lexer": "ipython3",
   "version": "3.5.2"
  }
 },
 "nbformat": 4,
 "nbformat_minor": 0
}
