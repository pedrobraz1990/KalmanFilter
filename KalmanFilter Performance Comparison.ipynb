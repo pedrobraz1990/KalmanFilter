{
 "cells": [
  {
   "cell_type": "code",
   "execution_count": 12,
   "metadata": {
    "collapsed": false
   },
   "outputs": [
    {
     "name": "stdout",
     "output_type": "stream",
     "text": [
      "The Cython extension is already loaded. To reload it, use:\n",
      "  %reload_ext Cython\n",
      "The line_profiler extension is already loaded. To reload it, use:\n",
      "  %reload_ext line_profiler\n"
     ]
    }
   ],
   "source": [
    "%matplotlib inline\n",
    "import numpy as np\n",
    "import pandas as pd\n",
    "\n",
    "from scipy.optimize import minimize\n",
    "\n",
    "import cython\n",
    "%load_ext Cython\n",
    "\n",
    "\n",
    "%load_ext line_profiler\n",
    "import line_profiler\n",
    "\n",
    "from Cython.Compiler.Options import directive_defaults\n",
    "\n",
    "directive_defaults['linetrace'] = True\n",
    "directive_defaults['binding'] = True"
   ]
  },
  {
   "cell_type": "code",
   "execution_count": 13,
   "metadata": {
    "collapsed": true
   },
   "outputs": [],
   "source": [
    "import KF1\n",
    "import KF2\n",
    "import KF_Paper\n",
    "import KF_PaperUni\n",
    "import KF3\n",
    "import CKF3\n",
    "import CKF4\n",
    "import CKF5\n",
    "import CKF6\n",
    "import CKF7\n",
    "import CKF8\n",
    "import CKF9\n",
    "import CKF10\n",
    "import CKF11\n",
    "import CKF12\n",
    "import CKF13\n",
    "import CKF14\n",
    "import CKF15\n",
    "import CKF16\n",
    "import CKF17\n",
    "import CKF18\n",
    "import CKF19\n",
    "import CKF20\n",
    "import CKF21\n",
    "import CKF22\n",
    "import CKF23\n",
    "import CKF24\n",
    "import CKF25"
   ]
  },
  {
   "cell_type": "markdown",
   "metadata": {},
   "source": [
    "# Kalman filter\n",
    "\n",
    "Based on Durbin Koopman\n",
    "\n",
    "\n",
    "For generic state-space systems like (Hamilton's notation):\n",
    "\n",
    "\n",
    "\n",
    "$$\\underset{(p \\times 1)}{y_t} = \\underset{(p \\times m)}{Z_t} \\underset{(m \\times 1)}{\\alpha_t} + \\underset{(p \\times 1)}{\\epsilon_t}, \\qquad \\epsilon_t \\sim N(0,\\underset{(p \\times p)}{H_t}) $$\n",
    "\n",
    "$$\\underset{(m \\times 1)}{\\alpha_{t+1}} = \\underset{(m \\times m)}{T_t} \n",
    "\\underset{(m \\times 1)}{\\alpha_{t}} + \\underset{(m \\times r)}{R_t} \\underset{(r \\times r)}{\\eta_t}, \\qquad \\eta_t \\sim N(0,\\underset{(r \\times \\ r)}{Q_t})$$\n",
    "\n",
    "\n",
    "$$\\alpha_1 \\sim N(a_1,\\underset{(m \\times m)}{P_1})$$\n",
    "\n",
    "Where\n",
    "\n",
    "* $p$ is the number of observed variables\n",
    "* $m$ is the number of latent states\n",
    "* $r$ is the number of disturbances (?)\n"
   ]
  },
  {
   "cell_type": "markdown",
   "metadata": {},
   "source": [
    "# Dummy data for the KF with non time-varying parameters\n",
    "\n",
    "## Local Level model\n",
    "\n",
    "$$ y_t = \\mu_t + \\epsilon_t, \\qquad \\epsilon \\sim NID(0, \\sigma^2_ \\epsilon) $$\n",
    "$$ \\mu_{t+1} = \\mu_t + \\eta_t, \\qquad \\eta_t \\sim NID(0,\\sigma^2_ \\eta) $$"
   ]
  },
  {
   "cell_type": "markdown",
   "metadata": {},
   "source": [
    "# Dummy data"
   ]
  },
  {
   "cell_type": "code",
   "execution_count": 81,
   "metadata": {
    "collapsed": false
   },
   "outputs": [],
   "source": [
    "# PARAMETERS\n",
    "m = 2\n",
    "p = 4\n",
    "\n",
    "\n",
    "Z = [[0.3,0.7],[0.1,0],[0.5,0.5],[0,0.3]]\n",
    "# Z = [[1.0,0.0],[0.0,1.0]]\n",
    "\n",
    "\n",
    "Z = pd.DataFrame(Z)\n",
    "\n",
    "H = pd.DataFrame(np.diag([0.1,0.2,0.3,0.4]))\n",
    "# H = pd.DataFrame(np.diag([0.1,0.2,]))\n",
    "\n",
    "\n",
    "T = pd.DataFrame(np.identity(2))\n",
    "R = pd.DataFrame(np.identity(2))\n",
    "\n",
    "Q = pd.DataFrame(np.diag([0.2,0.4]))\n",
    "\n",
    "# GENERATE DATA\n",
    "\n",
    "n = 3000 #sample size\n",
    "# n = 100000\n",
    "mu = np.empty((n,m))\n",
    "y = np.empty((n,p))\n",
    "t = 0\n",
    "mu[t,:] = np.zeros(m)\n",
    "y[t,:] = np.zeros(p)\n",
    "\n",
    "for t in range(1,n):\n",
    "    mu[t,:] = mu[t-1,:] + np.multiply(np.random.randn(m), np.diag(Q)**0.5)\n",
    "    y[t,:] = Z.dot(mu[t,:]) + np.multiply(np.random.randn(p), np.diag(H)**0.5)\n",
    "\n",
    "y = pd.DataFrame(y)    \n",
    "    \n",
    "nny = y.copy()\n",
    "probNan= 0.50\n",
    "for i in nny.index:\n",
    "    ran = np.random.uniform(size=nny.iloc[i].shape)\n",
    "    nny.iloc[i][ran<probNan] = np.nan\n",
    "    \n",
    "    \n",
    "# GENERATE WHOLE NULL\n",
    "\n",
    "wny = y.copy()\n",
    "probNan= 0.50\n",
    "for i in wny.index:\n",
    "    ran = np.random.uniform(size=(1))\n",
    "    if ran < probNan:\n",
    "        wny.iloc[i] = np.nan\n",
    "    "
   ]
  },
  {
   "cell_type": "code",
   "execution_count": 82,
   "metadata": {
    "collapsed": false
   },
   "outputs": [
    {
     "data": {
      "text/html": [
       "<div>\n",
       "<table border=\"1\" class=\"dataframe\">\n",
       "  <thead>\n",
       "    <tr style=\"text-align: right;\">\n",
       "      <th></th>\n",
       "      <th>0</th>\n",
       "      <th>1</th>\n",
       "      <th>2</th>\n",
       "      <th>3</th>\n",
       "    </tr>\n",
       "  </thead>\n",
       "  <tbody>\n",
       "    <tr>\n",
       "      <th>0</th>\n",
       "      <td>NaN</td>\n",
       "      <td>0.0</td>\n",
       "      <td>0.000000</td>\n",
       "      <td>0.0</td>\n",
       "    </tr>\n",
       "    <tr>\n",
       "      <th>1</th>\n",
       "      <td>0.155557</td>\n",
       "      <td>NaN</td>\n",
       "      <td>0.348075</td>\n",
       "      <td>NaN</td>\n",
       "    </tr>\n",
       "  </tbody>\n",
       "</table>\n",
       "</div>"
      ],
      "text/plain": [
       "          0    1         2    3\n",
       "0       NaN  0.0  0.000000  0.0\n",
       "1  0.155557  NaN  0.348075  NaN"
      ]
     },
     "execution_count": 82,
     "metadata": {},
     "output_type": "execute_result"
    }
   ],
   "source": [
    "nny.head(2)"
   ]
  },
  {
   "cell_type": "code",
   "execution_count": 83,
   "metadata": {
    "collapsed": true
   },
   "outputs": [],
   "source": [
    "y = np.array(y)\n",
    "nny = np.array(nny)\n",
    "wny = np.array(wny)\n",
    "Z = np.array(Z)\n",
    "H = np.array(H)\n",
    "T = np.array(T)\n",
    "R = np.array(R)\n",
    "Q = np.array(Q)\n",
    "\n",
    "#a1 = (m x 1)\n",
    "a1 = np.zeros(m)\n",
    "#P1 = (m x m)\n",
    "P1 = np.diag(np.ones(m)*1.0)"
   ]
  },
  {
   "cell_type": "markdown",
   "metadata": {},
   "source": [
    "# Likelihood Test\n",
    "\n"
   ]
  },
  {
   "cell_type": "code",
   "execution_count": 84,
   "metadata": {
    "collapsed": false
   },
   "outputs": [
    {
     "data": {
      "text/plain": [
       "0.29999999999999999"
      ]
     },
     "execution_count": 84,
     "metadata": {},
     "output_type": "execute_result"
    }
   ],
   "source": [
    "Z[0,0]"
   ]
  },
  {
   "cell_type": "code",
   "execution_count": 85,
   "metadata": {
    "collapsed": false
   },
   "outputs": [
    {
     "data": {
      "text/plain": [
       "0.10000000000000001"
      ]
     },
     "execution_count": 85,
     "metadata": {},
     "output_type": "execute_result"
    }
   ],
   "source": [
    "Z[1,0]"
   ]
  },
  {
   "cell_type": "code",
   "execution_count": 86,
   "metadata": {
    "collapsed": false
   },
   "outputs": [
    {
     "data": {
      "text/plain": [
       "0.20000000000000001"
      ]
     },
     "execution_count": 86,
     "metadata": {},
     "output_type": "execute_result"
    }
   ],
   "source": [
    "H[1,1]"
   ]
  },
  {
   "cell_type": "code",
   "execution_count": 87,
   "metadata": {
    "collapsed": true
   },
   "outputs": [],
   "source": [
    "def wrapper(z):\n",
    "    Z2 = Z.copy()\n",
    "    Z2[0,0] = z[0]\n",
    "    Z2[1,0] = z[1]\n",
    "#     Z2[0,0] = z\n",
    "    H2 = H.copy()\n",
    "    H2[1,1] = z[2]\n",
    "#     H2[1,1] = z\n",
    "\n",
    "#     return -CKF25.KalmanFilter(nny,Z2,H2,T,Q,a1,P1, R, True)\n",
    "    return -CKF25.KalmanFilter(y,Z2,H2,T,Q,a1,P1, R, True)"
   ]
  },
  {
   "cell_type": "code",
   "execution_count": 108,
   "metadata": {
    "collapsed": true
   },
   "outputs": [],
   "source": [
    "x0 = [0.10,0.10,0.10,]\n",
    "# x0=0\n",
    "bounds = ((None,None),(None,None),(0,None),)\n",
    "options = {'maxiter':2000}\n",
    "# options = {}"
   ]
  },
  {
   "cell_type": "code",
   "execution_count": 109,
   "metadata": {
    "collapsed": false
   },
   "outputs": [
    {
     "data": {
      "text/plain": [
       " final_simplex: (array([[ 0.29640708,  0.10076162,  0.19984788],\n",
       "       [ 0.29639742,  0.100757  ,  0.19982684],\n",
       "       [ 0.29641188,  0.10075669,  0.19994661],\n",
       "       [ 0.29639149,  0.10076647,  0.19987722]]), array([ 10755.27348567,  10755.27350344,  10755.27352075,  10755.2735343 ]))\n",
       "           fun: 10755.27348567455\n",
       "       message: 'Optimization terminated successfully.'\n",
       "          nfev: 155\n",
       "           nit: 90\n",
       "        status: 0\n",
       "       success: True\n",
       "             x: array([ 0.29640708,  0.10076162,  0.19984788])"
      ]
     },
     "execution_count": 109,
     "metadata": {},
     "output_type": "execute_result"
    }
   ],
   "source": [
    "minimize(wrapper,x0,method='Nelder-Mead', options=options)\n",
    "# Doesnt accept bounds\n",
    "# minimize(wrapper,x0,method='Nelder-Mead',bounds=bounds, options=options) "
   ]
  },
  {
   "cell_type": "code",
   "execution_count": 110,
   "metadata": {
    "collapsed": false
   },
   "outputs": [
    {
     "data": {
      "text/plain": [
       "   direc: array([[ 1.,  0.,  0.],\n",
       "       [ 0.,  1.,  0.],\n",
       "       [ 0.,  0.,  1.]])\n",
       "     fun: array(8897.13780777655)\n",
       " message: 'Optimization terminated successfully.'\n",
       "    nfev: 234\n",
       "     nit: 3\n",
       "  status: 0\n",
       " success: True\n",
       "       x: array([  2.96451306e-01,   1.56458904e+04,  -7.87874751e+10])"
      ]
     },
     "execution_count": 110,
     "metadata": {},
     "output_type": "execute_result"
    }
   ],
   "source": [
    "minimize(wrapper,x0,method='Powell', options=options)\n",
    "# Doesnt accept bounds\n",
    "# minimize(wrapper,x0,method='Powell',bounds=bounds, options=options)"
   ]
  },
  {
   "cell_type": "code",
   "execution_count": 111,
   "metadata": {
    "collapsed": false
   },
   "outputs": [
    {
     "name": "stderr",
     "output_type": "stream",
     "text": [
      "C:\\Anaconda3\\lib\\site-packages\\scipy\\optimize\\_minimize.py:394: RuntimeWarning: Method CG cannot handle constraints nor bounds.\n",
      "  RuntimeWarning)\n"
     ]
    },
    {
     "data": {
      "text/plain": [
       "     fun: 10755.27342975272\n",
       "     jac: array([ 0.00952148, -0.00317383,  0.00061035])\n",
       " message: 'Desired error not necessarily achieved due to precision loss.'\n",
       "    nfev: 556\n",
       "     nit: 28\n",
       "    njev: 109\n",
       "  status: 2\n",
       " success: False\n",
       "       x: array([ 0.29640882,  0.10075324,  0.19988048])"
      ]
     },
     "execution_count": 111,
     "metadata": {},
     "output_type": "execute_result"
    }
   ],
   "source": [
    "# minimize(wrapper,x0,method='CG', options=options)\n",
    "minimize(wrapper,x0,method='CG',bounds=bounds, options=options)\n"
   ]
  },
  {
   "cell_type": "code",
   "execution_count": 112,
   "metadata": {
    "collapsed": false
   },
   "outputs": [
    {
     "name": "stderr",
     "output_type": "stream",
     "text": [
      "C:\\Anaconda3\\lib\\site-packages\\scipy\\optimize\\_minimize.py:394: RuntimeWarning: Method BFGS cannot handle constraints nor bounds.\n",
      "  RuntimeWarning)\n"
     ]
    },
    {
     "data": {
      "text/plain": [
       "      fun: 10755.273429752657\n",
       " hess_inv: array([[  3.93399746e-06,  -8.54206374e-07,  -2.97273225e-06],\n",
       "       [ -8.54206374e-07,   8.88338381e-07,   2.92977262e-07],\n",
       "       [ -2.97273225e-06,   2.92977262e-07,   2.88564150e-06]])\n",
       "      jac: array([ 0.00256348, -0.00134277,  0.00170898])\n",
       "  message: 'Desired error not necessarily achieved due to precision loss.'\n",
       "     nfev: 326\n",
       "      nit: 13\n",
       "     njev: 63\n",
       "   status: 2\n",
       "  success: False\n",
       "        x: array([ 0.29640879,  0.10075324,  0.19988046])"
      ]
     },
     "execution_count": 112,
     "metadata": {},
     "output_type": "execute_result"
    }
   ],
   "source": [
    "# minimize(wrapper,x0,method='BFGS', options=options)\n",
    "minimize(wrapper,x0,method='BFGS',bounds=bounds, options=options)"
   ]
  },
  {
   "cell_type": "code",
   "execution_count": 113,
   "metadata": {
    "collapsed": false
   },
   "outputs": [
    {
     "data": {
      "text/plain": [
       "      fun: 10755.27342981293\n",
       " hess_inv: <3x3 LbfgsInvHessProduct with dtype=float64>\n",
       "      jac: array([-0.0691216 , -0.22992026,  0.04947651])\n",
       "  message: b'CONVERGENCE: REL_REDUCTION_OF_F_<=_FACTR*EPSMCH'\n",
       "     nfev: 60\n",
       "      nit: 10\n",
       "   status: 0\n",
       "  success: True\n",
       "        x: array([ 0.29640868,  0.10075306,  0.19988176])"
      ]
     },
     "execution_count": 113,
     "metadata": {},
     "output_type": "execute_result"
    }
   ],
   "source": [
    "# minimize(wrapper,x0,method='L-BFGS-B', options=options)\n",
    "minimize(wrapper,x0,method='L-BFGS-B',bounds=bounds, options=options)"
   ]
  },
  {
   "cell_type": "code",
   "execution_count": 114,
   "metadata": {
    "collapsed": false
   },
   "outputs": [
    {
     "data": {
      "text/plain": [
       "     fun: 10755.273430231002\n",
       "     jac: array([ 0.2066372 , -0.36980055, -0.14897523])\n",
       " message: 'Converged (|f_n-f_(n-1)| ~= 0)'\n",
       "    nfev: 93\n",
       "     nit: 20\n",
       "  status: 1\n",
       " success: True\n",
       "       x: array([ 0.29640974,  0.10075277,  0.19987647])"
      ]
     },
     "execution_count": 114,
     "metadata": {},
     "output_type": "execute_result"
    }
   ],
   "source": [
    "# minimize(wrapper,x0,method='TNC', options=options)\n",
    "minimize(wrapper,x0,method='TNC',bounds=bounds, options=options)"
   ]
  },
  {
   "cell_type": "code",
   "execution_count": 115,
   "metadata": {
    "collapsed": false
   },
   "outputs": [
    {
     "data": {
      "text/plain": [
       "     fun: 8897.606231914222\n",
       "     jac: array([ 0.48583984, -0.00488281, -0.00109863])\n",
       " message: 'Optimization terminated successfully.'\n",
       "    nfev: 654\n",
       "     nit: 105\n",
       "    njev: 105\n",
       "  status: 0\n",
       " success: True\n",
       "       x: array([  2.96443016e-01,   1.06804565e+00,  -3.40920437e+02])"
      ]
     },
     "execution_count": 115,
     "metadata": {},
     "output_type": "execute_result"
    }
   ],
   "source": [
    "minimize(wrapper,x0,method='SLSQP', options=options)\n",
    "# minimize(wrapper,x0,method='SLSQP',bounds=bounds, options=options)"
   ]
  },
  {
   "cell_type": "markdown",
   "metadata": {},
   "source": [
    "# Testing the KFs"
   ]
  },
  {
   "cell_type": "code",
   "execution_count": null,
   "metadata": {
    "collapsed": false
   },
   "outputs": [],
   "source": [
    "ret = CKF25.KalmanFilter(nny,Z,H,T,Q,a1,P1, R, False)\n",
    "\n",
    "vy = pd.DataFrame(y)\n",
    "\n",
    "i = 0\n",
    "\n",
    "pd.concat([vy[i], ret[i]], axis=1).plot()\n"
   ]
  },
  {
   "cell_type": "code",
   "execution_count": null,
   "metadata": {
    "collapsed": false
   },
   "outputs": [],
   "source": [
    "ret = CKF24.KalmanFilter(nny,Z,H,T,Q,a1,P1, R, False)\n",
    "\n",
    "vy = pd.DataFrame(y)\n",
    "\n",
    "i = 0\n",
    "\n",
    "pd.concat([vy[i], ret[i]], axis=1).plot()\n"
   ]
  },
  {
   "cell_type": "code",
   "execution_count": null,
   "metadata": {
    "collapsed": false
   },
   "outputs": [],
   "source": [
    "ret = CKF23.KalmanFilter(nny,Z,H,T,Q,a1,P1, R)\n",
    "\n",
    "vy = pd.DataFrame(y)\n",
    "\n",
    "i = 0\n",
    "\n",
    "pd.concat([vy[i], ret[i]], axis=1).plot()\n"
   ]
  },
  {
   "cell_type": "code",
   "execution_count": null,
   "metadata": {
    "collapsed": false
   },
   "outputs": [],
   "source": [
    "ret = CKF22.KalmanFilter(nny,Z,H,T,Q,a1,P1, R)\n",
    "\n",
    "vy = pd.DataFrame(y)\n",
    "\n",
    "i = 0\n",
    "\n",
    "pd.concat([vy[i], ret[i]], axis=1).plot()\n"
   ]
  },
  {
   "cell_type": "code",
   "execution_count": null,
   "metadata": {
    "collapsed": false
   },
   "outputs": [],
   "source": [
    "ret = CKF21.KalmanFilter(nny,Z,H,T,Q,a1,P1, R)\n",
    "\n",
    "vy = pd.DataFrame(y)\n",
    "\n",
    "i = 0\n",
    "\n",
    "pd.concat([vy[i], ret[i]], axis=1).plot()\n"
   ]
  },
  {
   "cell_type": "code",
   "execution_count": null,
   "metadata": {
    "collapsed": false
   },
   "outputs": [],
   "source": [
    "ret = CKF20.KalmanFilter(nny,Z,H,T,Q,a1,P1, R)\n",
    "\n",
    "vy = pd.DataFrame(y)\n",
    "\n",
    "i = 0\n",
    "\n",
    "pd.concat([vy[i], ret[i]], axis=1).plot()\n"
   ]
  },
  {
   "cell_type": "code",
   "execution_count": null,
   "metadata": {
    "collapsed": false
   },
   "outputs": [],
   "source": [
    "ret = CKF19.KalmanFilter(nny,Z,H,T,Q,a1,P1, R)\n",
    "\n",
    "vy = pd.DataFrame(y)\n",
    "\n",
    "i = 0\n",
    "\n",
    "pd.concat([vy[i], ret[i]], axis=1).plot()\n"
   ]
  },
  {
   "cell_type": "code",
   "execution_count": null,
   "metadata": {
    "collapsed": false
   },
   "outputs": [],
   "source": [
    "ret = CKF18.KalmanFilter(nny,Z,H,T,Q,a1,P1, R)\n",
    "\n",
    "vy = pd.DataFrame(y)\n",
    "\n",
    "i = 0\n",
    "\n",
    "pd.concat([vy[i], ret[i]], axis=1).plot()\n"
   ]
  },
  {
   "cell_type": "code",
   "execution_count": null,
   "metadata": {
    "collapsed": false
   },
   "outputs": [],
   "source": [
    "ret = CKF17.KalmanFilter(nny,Z,H,T,Q,a1,P1, R)\n",
    "\n",
    "vy = pd.DataFrame(y)\n",
    "\n",
    "i = 0\n",
    "\n",
    "pd.concat([vy[i], ret[i]], axis=1).plot()\n"
   ]
  },
  {
   "cell_type": "code",
   "execution_count": null,
   "metadata": {
    "collapsed": false
   },
   "outputs": [],
   "source": [
    "ret = CKF16.KalmanFilter(nny,Z,H,T,Q,a1,P1, R)\n",
    "\n",
    "vy = pd.DataFrame(y)\n",
    "\n",
    "i = 0\n",
    "\n",
    "pd.concat([vy[i], ret[i]], axis=1).plot()\n"
   ]
  },
  {
   "cell_type": "code",
   "execution_count": null,
   "metadata": {
    "collapsed": false
   },
   "outputs": [],
   "source": [
    "ret = CKF15.KalmanFilter(nny,Z,H,T,Q,a1,P1, R)\n",
    "\n",
    "vy = pd.DataFrame(y)\n",
    "\n",
    "i = 0\n",
    "\n",
    "pd.concat([vy[i], ret[i]], axis=1).plot()\n"
   ]
  },
  {
   "cell_type": "code",
   "execution_count": null,
   "metadata": {
    "collapsed": false
   },
   "outputs": [],
   "source": [
    "ret = CKF14.KalmanFilter(nny,Z,H,T,Q,a1,P1, R)\n",
    "\n",
    "vy = pd.DataFrame(y)\n",
    "\n",
    "i = 0\n",
    "\n",
    "pd.concat([vy[i], ret[i]], axis=1).plot()\n"
   ]
  },
  {
   "cell_type": "code",
   "execution_count": null,
   "metadata": {
    "collapsed": false
   },
   "outputs": [],
   "source": [
    "ret = CKF13.KalmanFilter(nny,Z,H,T,Q,a1,P1, R)\n",
    "\n",
    "vy = pd.DataFrame(y)\n",
    "\n",
    "i = 0\n",
    "\n",
    "pd.concat([vy[i], ret[i]], axis=1).plot()\n"
   ]
  },
  {
   "cell_type": "code",
   "execution_count": null,
   "metadata": {
    "collapsed": false
   },
   "outputs": [],
   "source": [
    "ret = CKF12.KalmanFilter(nny,Z,H,T,Q,a1,P1, R)\n",
    "\n",
    "vy = pd.DataFrame(y)\n",
    "\n",
    "i = 0\n",
    "\n",
    "pd.concat([vy[i], ret[i]], axis=1).plot()\n"
   ]
  },
  {
   "cell_type": "code",
   "execution_count": null,
   "metadata": {
    "collapsed": false
   },
   "outputs": [],
   "source": [
    "ret = CKF11.KalmanFilter(nny,Z,H,T,Q,a1,P1, R)\n",
    "\n",
    "vy = pd.DataFrame(y)\n",
    "\n",
    "i = 0\n",
    "\n",
    "pd.concat([vy[i], ret[i]], axis=1).plot()\n"
   ]
  },
  {
   "cell_type": "code",
   "execution_count": null,
   "metadata": {
    "collapsed": false
   },
   "outputs": [],
   "source": [
    "ret = CKF10.KalmanFilter(nny,Z,H,T,Q,a1,P1, R)\n",
    "\n",
    "vy = pd.DataFrame(y)\n",
    "\n",
    "i = 0\n",
    "\n",
    "pd.concat([vy[i], ret[i]], axis=1).plot()\n"
   ]
  },
  {
   "cell_type": "code",
   "execution_count": null,
   "metadata": {
    "collapsed": false
   },
   "outputs": [],
   "source": [
    "ret = CKF9.KalmanFilter(nny,Z,H,T,Q,a1,P1, R)\n",
    "\n",
    "vy = pd.DataFrame(y)\n",
    "\n",
    "i = 0\n",
    "\n",
    "pd.concat([vy[i], ret[i]], axis=1).plot()\n"
   ]
  },
  {
   "cell_type": "code",
   "execution_count": null,
   "metadata": {
    "collapsed": false
   },
   "outputs": [],
   "source": [
    "ret = CKF8.KalmanFilter(nny,Z,H,T,Q,a1,P1, R)\n",
    "\n",
    "vy = pd.DataFrame(y)\n",
    "\n",
    "i = 0\n",
    "\n",
    "pd.concat([vy[i], ret[i]], axis=1).plot()\n"
   ]
  },
  {
   "cell_type": "code",
   "execution_count": null,
   "metadata": {
    "collapsed": false
   },
   "outputs": [],
   "source": [
    "ret = CKF7.KalmanFilter(nny,Z,H,T,Q,a1,P1, R)\n",
    "\n",
    "vy = pd.DataFrame(y)\n",
    "\n",
    "i = 0\n",
    "\n",
    "pd.concat([vy[i], ret[i]], axis=1).plot()\n"
   ]
  },
  {
   "cell_type": "code",
   "execution_count": null,
   "metadata": {
    "collapsed": false
   },
   "outputs": [],
   "source": [
    "ret = CKF6.KalmanFilter(nny,Z,H,T,Q,a1,P1, R)\n",
    "\n",
    "vy = pd.DataFrame(y)\n",
    "\n",
    "i = 0\n",
    "\n",
    "pd.concat([vy[i], ret[i]], axis=1).plot()\n"
   ]
  },
  {
   "cell_type": "code",
   "execution_count": null,
   "metadata": {
    "collapsed": false
   },
   "outputs": [],
   "source": [
    "ret = CKF5.KalmanFilter(nny,Z,H,T,Q,a1,P1, R)\n",
    "\n",
    "vy = pd.DataFrame(y)\n",
    "\n",
    "i = 0\n",
    "\n",
    "pd.concat([vy[i], ret[i]], axis=1).plot()\n"
   ]
  },
  {
   "cell_type": "code",
   "execution_count": null,
   "metadata": {
    "collapsed": false
   },
   "outputs": [],
   "source": [
    "ret = CKF4.KalmanFilter(nny,Z,H,T,Q,a1,P1, R)\n",
    "\n",
    "vy = pd.DataFrame(y)\n",
    "\n",
    "i = 0\n",
    "\n",
    "pd.concat([vy[i], ret[i]], axis=1).plot()\n"
   ]
  },
  {
   "cell_type": "code",
   "execution_count": null,
   "metadata": {
    "collapsed": false
   },
   "outputs": [],
   "source": [
    "ret = CKF3.KalmanFilter(nny,Z,H,T,Q,a1,P1, R)\n",
    "\n",
    "vy = pd.DataFrame(y)\n",
    "\n",
    "i = 0\n",
    "\n",
    "pd.concat([vy[i], ret[i]], axis=1).plot()\n"
   ]
  },
  {
   "cell_type": "code",
   "execution_count": null,
   "metadata": {
    "collapsed": false
   },
   "outputs": [],
   "source": [
    "ret = KF3.KalmanFilter(\n",
    "#     y = y,\n",
    "#     y = wny,\n",
    "    y = nny,\n",
    "    Z = Z,\n",
    "    H = H,\n",
    "    T = T,\n",
    "    R = R,\n",
    "    Q = Q,\n",
    "    a1 = a1,\n",
    "    P1 = P1,\n",
    ")\n",
    "\n",
    "vy = pd.DataFrame(y)\n",
    "\n",
    "i = 0\n",
    "\n",
    "pd.concat([vy[i], ret[i]], axis=1).plot()\n"
   ]
  },
  {
   "cell_type": "code",
   "execution_count": null,
   "metadata": {
    "collapsed": false
   },
   "outputs": [],
   "source": [
    "ret = KF2.KalmanFilter(\n",
    "#     y = y,\n",
    "#     y = wny,\n",
    "    y = nny,\n",
    "    Z = Z,\n",
    "    H = H,\n",
    "    T = T,\n",
    "    R = R,\n",
    "    Q = Q,\n",
    "    a1 = a1,\n",
    "    P1 = P1,\n",
    ")\n",
    "\n",
    "vy = pd.DataFrame(y)\n",
    "\n",
    "i = 0\n",
    "\n",
    "pd.concat([vy[i], ret[i]], axis=1).plot()\n"
   ]
  },
  {
   "cell_type": "code",
   "execution_count": null,
   "metadata": {
    "collapsed": false
   },
   "outputs": [],
   "source": [
    "ret = KF1.KalmanFilter(\n",
    "#     y = y,\n",
    "#     y = wny,\n",
    "    y = nny,\n",
    "    Z = Z,\n",
    "    H = H,\n",
    "    T = T,\n",
    "    R = R,\n",
    "    Q = Q,\n",
    "    a1 = a1,\n",
    "    P1 = P1,\n",
    ")\n",
    "\n",
    "vy = pd.DataFrame(y)\n",
    "\n",
    "i = 0\n",
    "\n",
    "pd.concat([vy[i], ret[i]], axis=1).plot()\n"
   ]
  },
  {
   "cell_type": "code",
   "execution_count": null,
   "metadata": {
    "collapsed": false
   },
   "outputs": [],
   "source": [
    "ret = KF_PaperUni.KalmanFilter(\n",
    "    y = y,\n",
    "#     y = wny,\n",
    "#     y = nny,\n",
    "    Z = Z,\n",
    "    H = H,\n",
    "    T = T,\n",
    "    R = R,\n",
    "    Q = Q,\n",
    "    a1 = a1,\n",
    "    P1 = P1,\n",
    "    nStates = a1.shape[0],\n",
    "    export=True\n",
    ")\n",
    "\n",
    "vy = pd.DataFrame(y)\n",
    "\n",
    "i = 0\n",
    "\n",
    "ret = ret['yhat']\n",
    "\n",
    "pd.concat([vy[i], ret[i]], axis=1).plot()"
   ]
  },
  {
   "cell_type": "markdown",
   "metadata": {
    "collapsed": true
   },
   "source": [
    "# Performance"
   ]
  },
  {
   "cell_type": "code",
   "execution_count": null,
   "metadata": {
    "collapsed": false
   },
   "outputs": [],
   "source": [
    "%%timeit\n",
    "\n",
    "ret = KF_Paper.KalmanFilter(\n",
    "#     y = y,\n",
    "#     y = wny,\n",
    "    y = nny,\n",
    "    Z = Z,\n",
    "    H = H,\n",
    "    T = T,\n",
    "    R = R,\n",
    "    Q = Q,\n",
    "    a1 = a1,\n",
    "    P1 = P1,\n",
    "    nStates = a1.shape[0]\n",
    ")"
   ]
  },
  {
   "cell_type": "code",
   "execution_count": null,
   "metadata": {
    "collapsed": false
   },
   "outputs": [],
   "source": [
    "%%timeit\n",
    "\n",
    "ret = KF_PaperUni.KalmanFilter(\n",
    "#     y = y,\n",
    "#     y = wny,\n",
    "    y = nny,\n",
    "    Z = Z,\n",
    "    H = H,\n",
    "    T = T,\n",
    "    R = R,\n",
    "    Q = Q,\n",
    "    a1 = a1,\n",
    "    P1 = P1,\n",
    "    nStates = a1.shape[0],\n",
    "    export=True\n",
    ")"
   ]
  },
  {
   "cell_type": "code",
   "execution_count": null,
   "metadata": {
    "collapsed": false
   },
   "outputs": [],
   "source": [
    "%%timeit\n",
    "\n",
    "ret = KF1.KalmanFilter(\n",
    "#     y = y,\n",
    "#     y = wny,\n",
    "    y = nny,\n",
    "    Z = Z,\n",
    "    H = H,\n",
    "    T = T,\n",
    "    R = R,\n",
    "    Q = Q,\n",
    "    a1 = a1,\n",
    "    P1 = P1,\n",
    ")"
   ]
  },
  {
   "cell_type": "code",
   "execution_count": null,
   "metadata": {
    "collapsed": false
   },
   "outputs": [],
   "source": [
    "%%timeit\n",
    "\n",
    "ret = KF2.KalmanFilter(\n",
    "#     y = y,\n",
    "#     y = wny,\n",
    "    y = nny,\n",
    "    Z = Z,\n",
    "    H = H,\n",
    "    T = T,\n",
    "    R = R,\n",
    "    Q = Q,\n",
    "    a1 = a1,\n",
    "    P1 = P1,\n",
    ")"
   ]
  },
  {
   "cell_type": "code",
   "execution_count": null,
   "metadata": {
    "collapsed": false
   },
   "outputs": [],
   "source": [
    "%%timeit\n",
    "\n",
    "ret = KF3.KalmanFilter(\n",
    "#     y = y,\n",
    "#     y = wny,\n",
    "    y = nny,\n",
    "    Z = Z,\n",
    "    H = H,\n",
    "    T = T,\n",
    "    R = R,\n",
    "    Q = Q,\n",
    "    a1 = a1,\n",
    "    P1 = P1,\n",
    ")"
   ]
  },
  {
   "cell_type": "code",
   "execution_count": null,
   "metadata": {
    "collapsed": false
   },
   "outputs": [],
   "source": [
    "%%timeit\n",
    "\n",
    "ret = CKF3.KalmanFilter(nny,Z,H,T,Q,a1,P1, R)"
   ]
  },
  {
   "cell_type": "code",
   "execution_count": null,
   "metadata": {
    "collapsed": false
   },
   "outputs": [],
   "source": [
    "%%timeit\n",
    "\n",
    "ret = CKF4.KalmanFilter(nny,Z,H,T,Q,a1,P1, R)"
   ]
  },
  {
   "cell_type": "code",
   "execution_count": null,
   "metadata": {
    "collapsed": false
   },
   "outputs": [],
   "source": [
    "%%timeit\n",
    "\n",
    "ret = CKF5.KalmanFilter(nny,Z,H,T,Q,a1,P1, R)"
   ]
  },
  {
   "cell_type": "code",
   "execution_count": null,
   "metadata": {
    "collapsed": false
   },
   "outputs": [],
   "source": [
    "%%timeit\n",
    "\n",
    "ret = CKF6.KalmanFilter(nny,Z,H,T,Q,a1,P1, R)"
   ]
  },
  {
   "cell_type": "code",
   "execution_count": null,
   "metadata": {
    "collapsed": false
   },
   "outputs": [],
   "source": [
    "%%timeit\n",
    "\n",
    "ret = CKF7.KalmanFilter(nny,Z,H,T,Q,a1,P1, R)"
   ]
  },
  {
   "cell_type": "code",
   "execution_count": null,
   "metadata": {
    "collapsed": false
   },
   "outputs": [],
   "source": [
    "%%timeit\n",
    "\n",
    "ret = CKF8.KalmanFilter(nny,Z,H,T,Q,a1,P1, R)"
   ]
  },
  {
   "cell_type": "code",
   "execution_count": null,
   "metadata": {
    "collapsed": false
   },
   "outputs": [],
   "source": [
    "%%timeit\n",
    "\n",
    "ret = CKF9.KalmanFilter(nny,Z,H,T,Q,a1,P1, R)"
   ]
  },
  {
   "cell_type": "code",
   "execution_count": null,
   "metadata": {
    "collapsed": false
   },
   "outputs": [],
   "source": [
    "%%timeit\n",
    "\n",
    "ret = CKF10.KalmanFilter(nny,Z,H,T,Q,a1,P1, R)"
   ]
  },
  {
   "cell_type": "code",
   "execution_count": null,
   "metadata": {
    "collapsed": false
   },
   "outputs": [],
   "source": [
    "%%timeit\n",
    "\n",
    "ret = CKF11.KalmanFilter(nny,Z,H,T,Q,a1,P1, R)"
   ]
  },
  {
   "cell_type": "code",
   "execution_count": null,
   "metadata": {
    "collapsed": false
   },
   "outputs": [],
   "source": [
    "%%timeit\n",
    "\n",
    "ret = CKF12.KalmanFilter(nny,Z,H,T,Q,a1,P1, R)"
   ]
  },
  {
   "cell_type": "code",
   "execution_count": null,
   "metadata": {
    "collapsed": false
   },
   "outputs": [],
   "source": [
    "%%timeit\n",
    "\n",
    "ret = CKF13.KalmanFilter(nny,Z,H,T,Q,a1,P1, R)"
   ]
  },
  {
   "cell_type": "code",
   "execution_count": null,
   "metadata": {
    "collapsed": false
   },
   "outputs": [],
   "source": [
    "%%timeit\n",
    "\n",
    "ret = CKF14.KalmanFilter(nny,Z,H,T,Q,a1,P1, R)"
   ]
  },
  {
   "cell_type": "code",
   "execution_count": null,
   "metadata": {
    "collapsed": false
   },
   "outputs": [],
   "source": [
    "%%timeit\n",
    "\n",
    "ret = CKF15.KalmanFilter(nny,Z,H,T,Q,a1,P1, R)"
   ]
  },
  {
   "cell_type": "code",
   "execution_count": null,
   "metadata": {
    "collapsed": false
   },
   "outputs": [],
   "source": [
    "%%timeit\n",
    "\n",
    "ret = CKF16.KalmanFilter(nny,Z,H,T,Q,a1,P1, R)"
   ]
  },
  {
   "cell_type": "code",
   "execution_count": null,
   "metadata": {
    "collapsed": false
   },
   "outputs": [],
   "source": [
    "%%timeit\n",
    "\n",
    "ret = CKF17.KalmanFilter(nny,Z,H,T,Q,a1,P1, R)"
   ]
  },
  {
   "cell_type": "code",
   "execution_count": null,
   "metadata": {
    "collapsed": false
   },
   "outputs": [],
   "source": [
    "%%timeit\n",
    "\n",
    "ret = CKF18.KalmanFilter(nny,Z,H,T,Q,a1,P1, R)"
   ]
  },
  {
   "cell_type": "code",
   "execution_count": null,
   "metadata": {
    "collapsed": false
   },
   "outputs": [],
   "source": [
    "%%timeit\n",
    "\n",
    "ret = CKF19.KalmanFilter(nny,Z,H,T,Q,a1,P1, R)"
   ]
  },
  {
   "cell_type": "code",
   "execution_count": null,
   "metadata": {
    "collapsed": false
   },
   "outputs": [],
   "source": [
    "%%timeit\n",
    "\n",
    "ret = CKF20.KalmanFilter(nny,Z,H,T,Q,a1,P1, R)"
   ]
  },
  {
   "cell_type": "code",
   "execution_count": null,
   "metadata": {
    "collapsed": false
   },
   "outputs": [],
   "source": [
    "%%timeit\n",
    "\n",
    "ret = CKF21.KalmanFilter(nny,Z,H,T,Q,a1,P1, R)"
   ]
  },
  {
   "cell_type": "code",
   "execution_count": null,
   "metadata": {
    "collapsed": false
   },
   "outputs": [],
   "source": [
    "%%timeit\n",
    "\n",
    "ret = CKF22.KalmanFilter(nny,Z,H,T,Q,a1,P1, R)"
   ]
  },
  {
   "cell_type": "code",
   "execution_count": null,
   "metadata": {
    "collapsed": false
   },
   "outputs": [],
   "source": [
    "%%timeit\n",
    "\n",
    "ret = CKF23.KalmanFilter(nny,Z,H,T,Q,a1,P1, R)"
   ]
  },
  {
   "cell_type": "code",
   "execution_count": null,
   "metadata": {
    "collapsed": false
   },
   "outputs": [],
   "source": [
    "%%timeit\n",
    "\n",
    "ret = CKF24.KalmanFilter(nny,Z,H,T,Q,a1,P1, R, True)"
   ]
  },
  {
   "cell_type": "code",
   "execution_count": null,
   "metadata": {
    "collapsed": false
   },
   "outputs": [],
   "source": [
    "%%timeit\n",
    "\n",
    "ret = CKF25.KalmanFilter(nny,Z,H,T,Q,a1,P1, R, True)"
   ]
  },
  {
   "cell_type": "code",
   "execution_count": null,
   "metadata": {
    "collapsed": true
   },
   "outputs": [],
   "source": []
  },
  {
   "cell_type": "code",
   "execution_count": null,
   "metadata": {
    "collapsed": true
   },
   "outputs": [],
   "source": []
  },
  {
   "cell_type": "markdown",
   "metadata": {
    "collapsed": true
   },
   "source": [
    "## Tests #1 - Dot vs Dgemm"
   ]
  },
  {
   "cell_type": "code",
   "execution_count": null,
   "metadata": {
    "collapsed": false
   },
   "outputs": [],
   "source": [
    "%%cython \n",
    "import numpy as np\n",
    "cimport numpy as np\n",
    "import pandas as pd\n",
    "cimport scipy.linalg.cython_blas as blas\n",
    "import time\n",
    "\n",
    "# def f(np.ndarray[np.double_t,ndim=2, mode='fortran'] a, \n",
    "#       np.ndarray[np.double_t,ndim=2, mode='fortran'] b,\n",
    "#       np.ndarray[np.double_t,ndim=2, mode='fortran'] c,\n",
    "#      ):\n",
    "\n",
    "cdef f(double[::1,:] a, \n",
    "      double[::1,:] b,\n",
    "       double[::1,:] c,\n",
    "     ):\n",
    "\n",
    "    cdef int m, n, k, lda, ldb, ldc\n",
    "    cdef double alpha, beta\n",
    "\n",
    "    alpha = 1.0\n",
    "    beta = 0.0\n",
    "    lda = 2\n",
    "    ldb = 2\n",
    "    ldc = 2\n",
    "    m = 2\n",
    "    n = 2\n",
    "    k = 2\n",
    "\n",
    "    blas.dgemm('n', #TRANSA\n",
    "               'n', #TRANSB\n",
    "               &m, #M\n",
    "               &n, #N\n",
    "               &k, #K\n",
    "               &alpha, #ALPHA\n",
    "               &a[0,0], #MAtrix A\n",
    "               &lda, #LDA\n",
    "               &b[0,0], #MAtrix B\n",
    "               &ldb, #LDB\n",
    "               &beta, #BETA\n",
    "               &c[0,0], #Matrix C\n",
    "               &ldc) #LDC\n",
    "\n",
    "#     return c\n",
    "    return c\n",
    "\n",
    "\n",
    "\n",
    "\n",
    "#        blas.dgemm('n', #TRANSA\n",
    "#               'n', #TRANSB\n",
    "#               <int *> 2, #M\n",
    "#               <int *> 2, #N\n",
    "#               <int *> 2, #K\n",
    "#               <double *> 1, #ALPHA\n",
    "#               <double *> a_view, #MAtrix A\n",
    "#               <int *> 2, #LDA\n",
    "#               <double *> b_view, #MAtrix B\n",
    "#               <int *> 2, #LDB\n",
    "#               <double *> 0, #BETA\n",
    "#               <double *> c_view, #Matrix C\n",
    "#               <int *> 0) #LDC\n",
    "\n",
    "\n",
    "cdef multDual(double[::1,:] a, \n",
    "      double[::1,:] b,):\n",
    "    f(a,b,a)\n",
    "    f(a,b,a)\n",
    "    return a\n",
    "\n",
    "\n",
    "\n",
    "def dotMult(np.ndarray[np.double_t,ndim=2, mode='fortran'] a, \n",
    "      np.ndarray[np.double_t,ndim=2, mode='fortran'] b,\n",
    "      ):\n",
    "    \n",
    "#     n = 30\n",
    "#     for i in range(0,1000):\n",
    "#         for j in range (0,n):\n",
    "    c = a.dot(b).dot(b)\n",
    "    return c\n",
    "            \n",
    "def fMult(np.ndarray[np.double_t,ndim=2, mode='fortran'] a, \n",
    "      np.ndarray[np.double_t,ndim=2, mode='fortran'] b,\n",
    "      ):\n",
    "    \n",
    "#     n = 30\n",
    "#     for i in range(0,1000):\n",
    "#         for j in range (0,n):\n",
    "    f(a,b,a)\n",
    "    f(a,b,a)\n",
    "    return a\n",
    "    \n",
    "def l(np.ndarray[np.double_t,ndim=2, mode='fortran'] a, \n",
    "      np.ndarray[np.double_t,ndim=2, mode='fortran'] b,\n",
    "      ):\n",
    "\n",
    "    cdef np.ndarray[np.double_t,ndim=2, mode='fortran'] ac = a.copy(order='F')\n",
    "\n",
    "#     c = np.empty((2, 2), float, order=\"F\")\n",
    "    \n",
    "    timesDot = []\n",
    "    timesC = []\n",
    "\n",
    "    n = 30\n",
    "    \n",
    "    for i in range(0,10000):\n",
    "        start_time = time.time()\n",
    "        for j in range (0,n):\n",
    "            c = a.dot(b).dot(b)\n",
    "        end_time = time.time()\n",
    "\n",
    "        timesDot.append(end_time - start_time)\n",
    "\n",
    "        ac = a.copy(order='F')\n",
    "        start_time = time.time()\n",
    "        for j in range(0,n):\n",
    "            f(ac,b,ac)\n",
    "            f(ac,b,ac)\n",
    "#         time.sleep(1)\n",
    "        end_time = time.time()\n",
    "    #     print(\"--- %s seconds ---\" % (end_time - start_time))\n",
    "        timesC.append(end_time - start_time)\n",
    "\n",
    "    \n",
    "#     return np.array(a)\n",
    "    return {'dot':pd.DataFrame(timesDot), \n",
    "            'c' : pd.DataFrame(timesC),\n",
    "            'final':np.array(ac)\n",
    "           }\n",
    "\n"
   ]
  },
  {
   "cell_type": "code",
   "execution_count": null,
   "metadata": {
    "collapsed": true
   },
   "outputs": [],
   "source": [
    "a = np.array(np.random.rand(2,2),float,order='F')\n",
    "b = np.array(np.random.rand(2,2),float, order='F')\n",
    "c = np.empty((2,2),float,order='F')"
   ]
  },
  {
   "cell_type": "code",
   "execution_count": null,
   "metadata": {
    "collapsed": false
   },
   "outputs": [],
   "source": [
    "%%timeit\n",
    "\n",
    "for i in range(0,100):\n",
    "\n",
    "    a.dot(b).dot(b)"
   ]
  },
  {
   "cell_type": "code",
   "execution_count": null,
   "metadata": {
    "collapsed": false
   },
   "outputs": [],
   "source": [
    "%%timeit\n",
    "\n",
    "for i in range(0,100):\n",
    "\n",
    "    l(a.copy(order='F'), b.copy(order='F'))"
   ]
  },
  {
   "cell_type": "code",
   "execution_count": null,
   "metadata": {
    "collapsed": false
   },
   "outputs": [],
   "source": [
    "# a.dot(b).dot(a).dot(b).dot(b).dot(a).dot(a).dot(b).dot(b).dot(a)\n",
    "a.dot(b).dot(b)"
   ]
  },
  {
   "cell_type": "code",
   "execution_count": null,
   "metadata": {
    "collapsed": false
   },
   "outputs": [],
   "source": [
    "ret = l(a.copy(order='F'), b.copy(order='F'))"
   ]
  },
  {
   "cell_type": "code",
   "execution_count": null,
   "metadata": {
    "collapsed": false
   },
   "outputs": [],
   "source": [
    "ret['final']"
   ]
  },
  {
   "cell_type": "code",
   "execution_count": null,
   "metadata": {
    "collapsed": false
   },
   "outputs": [],
   "source": [
    "dev = (ret['dot']-ret['c'])"
   ]
  },
  {
   "cell_type": "code",
   "execution_count": null,
   "metadata": {
    "collapsed": false
   },
   "outputs": [],
   "source": [
    "dev.describe()"
   ]
  },
  {
   "cell_type": "markdown",
   "metadata": {},
   "source": [
    "# Test #2 - memory view vs ndarray"
   ]
  },
  {
   "cell_type": "code",
   "execution_count": null,
   "metadata": {
    "collapsed": false
   },
   "outputs": [],
   "source": [
    "%%cython\n",
    "\n",
    "import numpy as np\n",
    "cimport numpy as np\n",
    "\n",
    "def main1(np.ndarray[np.double_t,ndim=2] a,np.ndarray[np.double_t,ndim=2] b):\n",
    "\n",
    "    cdef np.ndarray[np.double_t,ndim=2] c = np.empty((2,2))\n",
    "\n",
    "    for i in range(0,1000):\n",
    "        c = a.dot(b)\n",
    "    return c\n",
    "\n",
    "    \n",
    "def main2(np.ndarray[np.double_t,ndim=2] a,np.ndarray[np.double_t,ndim=2] b):\n",
    "\n",
    "    cdef double[:,:] c = np.empty((2,2))\n",
    "\n",
    "    for i in range(0,1000):\n",
    "        c = a.dot(b)\n",
    "    return c    \n",
    "    \n",
    "# def main2(double[:,:] a,double[:,:] b):\n",
    "\n",
    "#     cdef double[:,:] c = np.empty((2,2))\n",
    "\n",
    "#     for i in range(0,100):\n",
    "#         c = a.dot(b)\n",
    "#         return c\n",
    "    "
   ]
  },
  {
   "cell_type": "code",
   "execution_count": null,
   "metadata": {
    "collapsed": true
   },
   "outputs": [],
   "source": [
    "a = np.array(np.random.rand(2,2),float)\n",
    "b = np.array(np.random.rand(2,2),float)"
   ]
  },
  {
   "cell_type": "code",
   "execution_count": null,
   "metadata": {
    "collapsed": false
   },
   "outputs": [],
   "source": [
    "%%timeit \n",
    "\n",
    "main1(a,b)"
   ]
  },
  {
   "cell_type": "code",
   "execution_count": null,
   "metadata": {
    "collapsed": false
   },
   "outputs": [],
   "source": [
    "%%timeit \n",
    "\n",
    "main2(a,b)"
   ]
  },
  {
   "cell_type": "markdown",
   "metadata": {},
   "source": [
    "Next Steps:\n",
    "\n",
    "separate test 1 in two functions\n",
    "disable gil, and decorators\n"
   ]
  },
  {
   "cell_type": "markdown",
   "metadata": {
    "collapsed": true
   },
   "source": [
    "# Test #3 - Decorators"
   ]
  },
  {
   "cell_type": "code",
   "execution_count": null,
   "metadata": {
    "collapsed": false
   },
   "outputs": [],
   "source": [
    "%%cython -a\n",
    "# %%cython \n",
    "\n",
    "import numpy as np\n",
    "cimport numpy as np\n",
    "import pandas as pd\n",
    "cimport scipy.linalg.cython_blas as blas\n",
    "import time\n",
    "cimport cython\n",
    "\n",
    "# def f(np.ndarray[np.double_t,ndim=2, mode='fortran'] a, \n",
    "#       np.ndarray[np.double_t,ndim=2, mode='fortran'] b,\n",
    "#       np.ndarray[np.double_t,ndim=2, mode='fortran'] c,\n",
    "#      ):\n",
    "\n",
    "\n",
    "@cython.boundscheck(False)  \n",
    "@cython.wraparound(False)\n",
    "@cython.initializedcheck(False)\n",
    "@cython.cdivision(True)\n",
    "@cython.nonecheck(False)\n",
    "cdef void f(double[::1,:] a, \n",
    "      double[::1,:] b,\n",
    "       double[::1,:] c,\n",
    "     ) nogil:\n",
    "\n",
    "    cdef int m, n, k, lda, ldb, ldc\n",
    "    cdef double alpha, beta\n",
    "\n",
    "    alpha = 1.0\n",
    "    beta = 0.0\n",
    "    lda = 2\n",
    "    ldb = 2\n",
    "    ldc = 2\n",
    "    m = 2\n",
    "    n = 2\n",
    "    k = 2\n",
    "\n",
    "    blas.dgemm('n', #TRANSA\n",
    "               'n', #TRANSB\n",
    "               &m, #M\n",
    "               &n, #N\n",
    "               &k, #K\n",
    "               &alpha, #ALPHA\n",
    "               &a[0,0], #MAtrix A\n",
    "               &lda, #LDA\n",
    "               &b[0,0], #MAtrix B\n",
    "               &ldb, #LDB\n",
    "               &beta, #BETA\n",
    "               &c[0,0], #Matrix C\n",
    "               &ldc) #LDC\n",
    "\n",
    "#     return c\n",
    "#     return c\n",
    "\n",
    "\n",
    "\n",
    "\n",
    "#        blas.dgemm('n', #TRANSA\n",
    "#               'n', #TRANSB\n",
    "#               <int *> 2, #M\n",
    "#               <int *> 2, #N\n",
    "#               <int *> 2, #K\n",
    "#               <double *> 1, #ALPHA\n",
    "#               <double *> a_view, #MAtrix A\n",
    "#               <int *> 2, #LDA\n",
    "#               <double *> b_view, #MAtrix B\n",
    "#               <int *> 2, #LDB\n",
    "#               <double *> 0, #BETA\n",
    "#               <double *> c_view, #Matrix C\n",
    "#               <int *> 0) #LDC\n",
    "\n",
    "\n",
    "\n",
    "@cython.boundscheck(False)  \n",
    "@cython.wraparound(False)\n",
    "@cython.initializedcheck(False)\n",
    "@cython.cdivision(True)\n",
    "@cython.nonecheck(False)\n",
    "def dotMult(np.ndarray[np.double_t,ndim=2, mode='fortran'] a, \n",
    "      np.ndarray[np.double_t,ndim=2, mode='fortran'] b,\n",
    "      ):\n",
    "    \n",
    "#     n = 30\n",
    "    for i in range(0,10000):\n",
    "#         for j in range (0,n):\n",
    "        c = a.dot(b).dot(b)\n",
    "    return c\n",
    "         \n",
    "@cython.boundscheck(False)  \n",
    "@cython.wraparound(False)\n",
    "@cython.initializedcheck(False)\n",
    "def fMult(np.ndarray[np.double_t,ndim=2, mode='fortran'] a, \n",
    "      np.ndarray[np.double_t,ndim=2, mode='fortran'] b,\n",
    "      ):\n",
    "    \n",
    "#     n = 30\n",
    "    for i in range(0,10000):\n",
    "#         for j in range (0,n):\n",
    "        f(a,b,a)\n",
    "        f(a,b,a)\n",
    "    return a\n",
    "    \n",
    "def l(np.ndarray[np.double_t,ndim=2, mode='fortran'] a, \n",
    "      np.ndarray[np.double_t,ndim=2, mode='fortran'] b,\n",
    "      ):\n",
    "\n",
    "    cdef np.ndarray[np.double_t,ndim=2, mode='fortran'] ac = a.copy(order='F')\n",
    "\n",
    "#     c = np.empty((2, 2), float, order=\"F\")\n",
    "    \n",
    "    timesDot = []\n",
    "    timesC = []\n",
    "\n",
    "    n = 30\n",
    "    \n",
    "    for i in range(0,100000):\n",
    "        start_time = time.time()\n",
    "        for j in range (0,n):\n",
    "            c = a.dot(b).dot(b)\n",
    "        end_time = time.time()\n",
    "\n",
    "        timesDot.append(end_time - start_time)\n",
    "\n",
    "        ac = a.copy(order='F')\n",
    "        start_time = time.time()\n",
    "        for j in range(0,n):\n",
    "            f(ac,b,ac)\n",
    "            f(ac,b,ac)\n",
    "#         time.sleep(1)\n",
    "        end_time = time.time()\n",
    "    #     print(\"--- %s seconds ---\" % (end_time - start_time))\n",
    "        timesC.append(end_time - start_time)\n",
    "\n",
    "    \n",
    "#     return np.array(a)\n",
    "    return {'dot':pd.DataFrame(timesDot), \n",
    "            'c' : pd.DataFrame(timesC),\n",
    "            'final':np.array(ac)\n",
    "           }\n",
    "\n",
    "\n"
   ]
  },
  {
   "cell_type": "code",
   "execution_count": null,
   "metadata": {
    "collapsed": true
   },
   "outputs": [],
   "source": [
    "a = np.array(np.random.rand(2,2),float,order='F')\n",
    "b = np.array(np.random.rand(2,2),float, order='F')\n",
    "c = np.empty((2,2),float,order='F')"
   ]
  },
  {
   "cell_type": "code",
   "execution_count": null,
   "metadata": {
    "collapsed": false
   },
   "outputs": [],
   "source": [
    "a.dot(b).dot(b)"
   ]
  },
  {
   "cell_type": "code",
   "execution_count": null,
   "metadata": {
    "collapsed": false
   },
   "outputs": [],
   "source": [
    "dotMult(a,b)"
   ]
  },
  {
   "cell_type": "code",
   "execution_count": null,
   "metadata": {
    "collapsed": false
   },
   "outputs": [],
   "source": [
    "fMult(a,b)"
   ]
  },
  {
   "cell_type": "code",
   "execution_count": null,
   "metadata": {
    "collapsed": false
   },
   "outputs": [],
   "source": [
    "%%timeit\n",
    "\n",
    "dotMult(a,b)"
   ]
  },
  {
   "cell_type": "code",
   "execution_count": null,
   "metadata": {
    "collapsed": false
   },
   "outputs": [],
   "source": [
    "%%timeit\n",
    "\n",
    "fMult(a,b)"
   ]
  },
  {
   "cell_type": "markdown",
   "metadata": {},
   "source": [
    "# Line Profiler"
   ]
  },
  {
   "cell_type": "code",
   "execution_count": null,
   "metadata": {
    "collapsed": false,
    "scrolled": true
   },
   "outputs": [],
   "source": [
    "%%cython -a -f --compile-args=-DCYTHON_TRACE=1\n",
    "\n",
    "import numpy as np\n",
    "cimport numpy as np\n",
    "import pandas as pd\n",
    "import time\n",
    "from cpython cimport bool\n",
    "import line_profiler\n",
    "cimport cython\n",
    "\n",
    "from libc.math cimport isnan\n",
    "from libc.math cimport log\n",
    "from libc.math cimport M_PI\n",
    "\n",
    "ctypedef np.double_t DTYPE_t\n",
    "\n",
    "##### KF\n",
    "# Univariate version of durbin and koopman\n",
    "# Should be the same as CKF24 with a constant defined\n",
    "\n",
    "\n",
    "\n",
    "@cython.boundscheck(False)\n",
    "@cython.wraparound(False)\n",
    "cdef inline int getSum(double [:,:] arr,int t, int p) nogil:\n",
    "\n",
    "    cdef int i\n",
    "    cdef int s = 0\n",
    "\n",
    "    for i in range(0,p):\n",
    "#        print(arr[i])\n",
    "        if not isnan(arr[t,i]):\n",
    "             s += 1\n",
    "    return s\n",
    "\n",
    "\n",
    "@cython.boundscheck(False)\n",
    "@cython.wraparound(False)\n",
    "cdef inline double yZa(double [:] arr1, double [:] arr2 , int m, double y) nogil:\n",
    "\n",
    "    cdef double res = 0\n",
    "    cdef int i\n",
    "\n",
    "    for i in range(0,m):\n",
    "        res += arr1[i] * arr2[i]\n",
    "    return y-res\n",
    "\n",
    "\n",
    "@cython.boundscheck(False)\n",
    "@cython.wraparound(False)\n",
    "cdef inline void outerProductP(double [:] arr1, double [:] arr2 , int m, double [:,:] res, double F) nogil:\n",
    "\n",
    "#    cdef double[:,:] res\n",
    "    cdef int i\n",
    "    cdef int j\n",
    "\n",
    "    for i in range(0,m):\n",
    "        for j in range(0,m):\n",
    "            res[i,j] -= arr1[i] * arr1[j] * F\n",
    "#    return res\n",
    "\n",
    "\n",
    "\n",
    "@cython.boundscheck(False)\n",
    "@cython.wraparound(False)\n",
    "@cython.cdivision(True)\n",
    "cdef inline void PZF(double[:] K, double F, double[:,:] P, double[:] Zti ,\n",
    "int n, int p, int m) nogil:\n",
    "#Note n, m and p are the generical matrix sizes from\n",
    "#https://en.wikipedia.org/wiki/Matrix_multiplication_algorithm\n",
    "\n",
    "#K[:] = P[:,:].dot(Zt[i]) * (1/F)\n",
    "#K(m x 1) = P(m x m) * Zt[i](m x 1) * (1/F) (1 x 1)\n",
    "#Matrix = problem\n",
    "# n = m\n",
    "# p = 1\n",
    "# m = m\n",
    "\n",
    "    cdef double invF = 1/F\n",
    "    for i in range(0,n):\n",
    "        K[i] = 0\n",
    "        for k in range(0,m):\n",
    "            K[i] += P[i,k] * Zti[k]\n",
    "        K[i] *= invF\n",
    "\n",
    "\n",
    "\n",
    "@cython.boundscheck(False)\n",
    "@cython.wraparound(False)\n",
    "@cython.cdivision(True)\n",
    "cdef inline void AKv(double[:] a1, double[:] a0 , double[:] K, double v ,\n",
    "int m) nogil:\n",
    "\n",
    "#a[t,i+1,:] = a[t,i,:] + K[:] * v\n",
    "#AKv(a_mv[t,i+1,:], a_mv[t,i,:], K_mv[:], v, m)\n",
    "\n",
    "    for i in range(0,m):\n",
    "        a1[i] = a0[i] + K[i] * v\n",
    "\n",
    "\n",
    "\n",
    "@cython.boundscheck(False)\n",
    "@cython.wraparound(False)\n",
    "cdef inline double ZPZH(double[:] Zt, double[:,:] P, double Ht, int m) nogil:\n",
    "\n",
    "#F = Zt[i].dot(P[:,:]).dot(Zt[i]) + Ht[i]\n",
    "#F(1 x 1) = Zt[i] (1 x m) * P (m x m) * Zt[i] (m x 1) + Ht[i] (1 x 1)\n",
    "\n",
    "    cdef double F = 0\n",
    "    cdef double temp = 0\n",
    "    for i in range(0,m):\n",
    "        temp = 0\n",
    "        for j in range(0,m):\n",
    "            temp += Zt[j]*P[j,i]\n",
    "\n",
    "        F += temp * Zt[i]\n",
    "\n",
    "    return F + Ht\n",
    "\n",
    "\n",
    "@cython.boundscheck(False)\n",
    "@cython.wraparound(False)\n",
    "cdef inline void TPT(double[:,:] T, double[:,:] P, double[:,:] TT,\n",
    "double[:,:] RQR, int m, double[:,:] temp) nogil:\n",
    "\n",
    "# P[:, :] = T.dot(P[:,:]).dot(TT) + RQR\n",
    "# P(m x m) = T(m x m) P(m x m) TT(m x m) + RQR (m x m)\n",
    "# Will do 2 matrix multiplications, can be done better, by doing it in a single\n",
    "#operation\n",
    "\n",
    "\n",
    "    cdef double tempk2, tempk1\n",
    "\n",
    "    for i in range(0,m):\n",
    "        for j in range(0,m):\n",
    "            tempk1 = 0\n",
    "            for k1 in range(0,m):\n",
    "                tempk2 = 0\n",
    "                for k2 in range(0,m):\n",
    "                    tempk2 += T[i,k2] * P[k2,k1]\n",
    "                tempk1 += tempk2 * TT[j,i]\n",
    "            temp[i,j] = tempk1\n",
    "\n",
    "    for i in range(0,m):\n",
    "        for j in range(0,m):\n",
    "            P[i,j] = temp[i,j] + RQR[i,j]\n",
    "\n",
    "\n",
    "\n",
    "@cython.boundscheck(False)\n",
    "@cython.wraparound(False)\n",
    "cdef inline void Ta(double[:] a1, double[:] a0 , double[:,:] T, int m) nogil:\n",
    "\n",
    "# a[t+1,0,:] =  T.dot(a[t, pt, :])\n",
    "#a(m x 1) = T(m x m) * a(m x 1)\n",
    "    for i in range(0,m):\n",
    "        a1[i] = 0\n",
    "        for j in range(0,m):\n",
    "            a1[i] += T[i,j] * a0[j]\n",
    "\n",
    "\n",
    "\n",
    "@cython.boundscheck(False)\n",
    "@cython.wraparound(False)\n",
    "cdef inline int indexNans(double[:] yt, double[:] yt_orig,double[:,:] Zt, double[:,:] Zt_orig, double[:] H, double[:] H_orig, int p) nogil:\n",
    "#yt[:pt] = y[t,yind]\n",
    "#Zt[:pt,:] = Z[yind,:]\n",
    "#Ht[:pt] = H[yind]\n",
    "#should do all that and return pt\n",
    "#yt(p x 1)\n",
    "#Zt(p x p)\n",
    "\n",
    "    cdef int i,j\n",
    "    cdef int pt = 0\n",
    "\n",
    "    for i in range(0,p):\n",
    "        if not isnan(yt_orig[i]):\n",
    "            yt[pt] = yt_orig[i]\n",
    "            H[pt] = H_orig[i]\n",
    "\n",
    "            for j in range(0,p):\n",
    "                Zt[pt,j] = Zt_orig[i,j]\n",
    "\n",
    "            pt += 1\n",
    "\n",
    "    return pt\n",
    "\n",
    "\n",
    "\n",
    "\n",
    "#@cython.initializedcheck(False)\n",
    "#@cython.nonecheck(False)\n",
    "@cython.cdivision(True)\n",
    "@cython.boundscheck(False)\n",
    "@cython.wraparound(False)\n",
    "def KalmanFilter(\n",
    "        np.ndarray[DTYPE_t, ndim=2] y,\n",
    "        np.ndarray[DTYPE_t, ndim=2] Z,\n",
    "        np.ndarray[DTYPE_t, ndim=2] Hsq,\n",
    "        np.ndarray[DTYPE_t, ndim=2] T,\n",
    "        np.ndarray[DTYPE_t, ndim=2] Q,\n",
    "        np.ndarray[DTYPE_t, ndim=1] a1,\n",
    "        np.ndarray[DTYPE_t, ndim=2] P1,\n",
    "        np.ndarray[DTYPE_t, ndim=2] R,\n",
    "        likelihood = True,\n",
    "   ) :\n",
    "\n",
    "    # p = number of variables in Yt\n",
    "    # y should be (n x p)\n",
    "\n",
    "    cdef int n,p,m,t,i,pt\n",
    "\n",
    "    n = y.shape[0]\n",
    "    p = y.shape[1]\n",
    "    m = a1.shape[0] #number of states\n",
    "\n",
    "\n",
    "    cdef np.ndarray[DTYPE_t,ndim=3] a = np.empty((n+1,p+1,m))\n",
    "    a[0,0,:] = a1\n",
    "\n",
    "    cdef np.ndarray[DTYPE_t,ndim=2] P = np.empty((m, m))\n",
    "    P[:,:] = P1\n",
    "\n",
    "    cdef np.ndarray[DTYPE_t,ndim=2] mmTemp = np.empty((m, m))\n",
    "\n",
    "    cdef np.ndarray[DTYPE_t,ndim=1] K = np.empty((m))\n",
    "\n",
    "    cdef double v,F\n",
    "\n",
    "\n",
    "    # RQR = np.linalg.multi_dot([R, Q, R.T])\n",
    "    cdef np.ndarray[DTYPE_t,ndim=2] RQR = R.dot(Q).dot(R.T)\n",
    "\n",
    "    cdef np.ndarray[DTYPE_t,ndim=2] TT = T.T\n",
    "\n",
    "    yhat = np.empty((n,p)) #Later I should use it to export in numpy not pandas\n",
    "\n",
    "\n",
    "    cdef np.ndarray[DTYPE_t,ndim=1] yt = np.empty(p)\n",
    "    cdef np.ndarray[DTYPE_t,ndim=1] yInd = np.empty(p)\n",
    "    cdef np.ndarray[DTYPE_t,ndim=2] Zt = np.empty((p, m))\n",
    "    cdef np.ndarray[DTYPE_t,ndim=1] Ht = np.empty(p)\n",
    "\n",
    "\n",
    "    cdef np.ndarray[DTYPE_t,ndim=1] H = np.diag(Hsq) #ONLY WORKS FOR DIAGONAL H\n",
    "\n",
    "#    cdef np.ndarray[DTYPE_t,ndim=2] y_orig = y.copy()\n",
    "    cdef np.ndarray[DTYPE_t,ndim=2] Z_orig = Z.copy()\n",
    "    cdef np.ndarray[DTYPE_t,ndim=1] H_orig = H.copy()\n",
    "\n",
    "\n",
    "    cdef double[:,:] y_mv = y\n",
    "#    cdef double[:,:] y_orig_mv = y_orig\n",
    "    cdef double[:,:] Z_orig_mv = Z_orig\n",
    "    cdef double[:] H_orig_mv = H_orig\n",
    "    cdef double[:] yt_mv = yt\n",
    "    cdef double[:] yInd_mv = yInd\n",
    "    cdef double[:,:,:] a_mv = a\n",
    "    cdef double[:,:] Zt_mv = Zt\n",
    "    cdef double[:] K_mv = K\n",
    "    cdef double[:,:] P_mv = P\n",
    "    cdef double[:] Ht_mv = Ht\n",
    "    cdef double[:,:] T_mv = T\n",
    "    cdef double[:,:] TT_mv = TT\n",
    "    cdef double[:,:] RQR_mv = RQR\n",
    "    cdef double[:,:] mmTemp_mv = mmTemp\n",
    "\n",
    "    cdef double pst\n",
    "    cdef double pstSum\n",
    "    cdef double ll = 0\n",
    "    cdef double lpi= log(2*M_PI)\n",
    "\n",
    "    for t in range(0, n):\n",
    "\n",
    "\n",
    "#        pt = getSum(y_mv, t, p)\n",
    "#\n",
    "#        yt[:pt] = y[t,yind]\n",
    "#        Zt[:pt,:] = Z[yind,:]\n",
    "#        Ht[:pt] = H[yind] #ONLY WORKS FOR DIAGONAL H\n",
    "\n",
    "        pt = indexNans(yt_mv, y_mv[t,:],Zt_mv[:,:], Z_orig_mv[:,:],Ht_mv[:],H_orig_mv[:], p)\n",
    "\n",
    "        pst = 0\n",
    "\n",
    "\n",
    "        for i in range(0, pt):\n",
    "\n",
    "#            v = yt[i] - np.dot(Zt[i], a[t,i,:])\n",
    "#            v = yt_mv[i] - innerProduct(Zt_mv[i],a_mv[t,i,:],m)\n",
    "            v =  yZa(Zt_mv[i],a_mv[t,i,:],m, yt_mv[i])\n",
    "\n",
    "            # F[t,i] = np.linalg.multi_dot([Z[i], P[t, i,:,:], Z[i]]) + H[i, i]\n",
    "#            F = Zt[i].dot(P[:,:]).dot(Zt[i]) + Ht[i]\n",
    "            F = ZPZH(Zt_mv[i], P_mv[:,:], Ht_mv[i], m)\n",
    "\n",
    "            if likelihood:\n",
    "                if F>0:\n",
    "                    ll += log(F) + (v ** 2) / F\n",
    "                    pst += 1\n",
    "\n",
    "#            K[:] = P[:,:].dot(Zt[i]) * (1/F)\n",
    "            PZF(K_mv[:], F, P_mv[:,:], Zt_mv[i] , m, 1, m)\n",
    "\n",
    "#            a[t,i+1,:] = a[t,i,:] + K[:] * v\n",
    "            AKv(a_mv[t,i+1,:], a_mv[t,i,:], K_mv[:], v, m)\n",
    "\n",
    "#            P[:,:] += - np.outer(K * F, K)\n",
    "#            P[:,:] += - np.dot(K[:,None] * F, K[None,:])\n",
    "            outerProductP(K_mv,K_mv,m,P_mv, F)\n",
    "\n",
    "        if likelihood:\n",
    "            ll += pst * lpi\n",
    "\n",
    "#        a[t+1,0,:] =  T.dot(a[t, pt, :])\n",
    "        Ta(a_mv[t+1,0,:], a_mv[t, pt, :], T_mv, m)\n",
    "\n",
    "        # P[t+1, 0,:,:] = np.linalg.multi_dot([T, P[t, i + 1,:,:], TT]) + RQR\n",
    "#        P[:, :] = T.dot(P[:,:]).dot(TT) + RQR\n",
    "        TPT(T_mv, P_mv, TT_mv, RQR_mv, m, mmTemp_mv)\n",
    "\n",
    "        # times.append(temp1 == temp2)\n",
    "\n",
    "\n",
    "    alpha = a[:n, 0,:]\n",
    "    yhat = pd.DataFrame(np.dot(Z, alpha.T).T)\n",
    "    ll *= -0.5\n",
    "    # pd.DataFrame(times).to_pickle(\"Mult\")\n",
    "    # pd.DataFrame(times).to_pickle(\"Dot\")\n",
    "\n",
    "    if likelihood:\n",
    "        return ll\n",
    "\n",
    "    return yhat\n",
    "\n"
   ]
  },
  {
   "cell_type": "code",
   "execution_count": null,
   "metadata": {
    "collapsed": false
   },
   "outputs": [],
   "source": [
    "profile = line_profiler.LineProfiler(KalmanFilter)\n",
    "profile.runcall(KalmanFilter, nny,Z,H,T,Q,a1,P1, R)\n",
    "profile.print_stats()"
   ]
  },
  {
   "cell_type": "code",
   "execution_count": null,
   "metadata": {
    "collapsed": false
   },
   "outputs": [],
   "source": [
    "ret = KalmanFilter(nny,Z,H,T,Q,a1,P1, R)\n",
    "\n",
    "vy = pd.DataFrame(y)\n",
    "\n",
    "i = 0\n",
    "\n",
    "pd.concat([vy[i], ret[i]], axis=1).plot()\n"
   ]
  },
  {
   "cell_type": "code",
   "execution_count": null,
   "metadata": {
    "collapsed": false
   },
   "outputs": [],
   "source": [
    "%%cython \n",
    "\n",
    "import numpy as np\n",
    "cimport numpy as np\n",
    "\n",
    "\n",
    "# cdef void func(double* letsee):\n",
    "#     for i in range(0,4):\n",
    "# #         if not isnan(letsee[i]):\n",
    "#             print(letsee[i])\n",
    "#             print(isnan(letsee[i]))\n",
    "\n",
    "def main1():\n",
    "#     cdef np.ndarray[np.double_t,ndim=2] a = np.array([[1,np.nan,3,4],[1,np.nan,3,4]])\n",
    "\n",
    "    n = 10\n",
    "    cdef np.ndarray[np.double_t,ndim=2] a = np.random.randn(n,n)\n",
    "    \n",
    "    cdef np.ndarray[np.double_t,ndim=2] b\n",
    "    \n",
    "    cdef double[:,:] a_mv = a\n",
    "    \n",
    "    ind = np.ones(n)\n",
    "    ind[3] = np.nan\n",
    "    ind[5] = np.nan\n",
    "    ind[7] = np.nan\n",
    "    \n",
    "    \n",
    "    print(np.array(a_mv))\n",
    "    print(\"Hey\")\n",
    "    print(np.array(a_mv[5,(1,3)]))\n",
    "    \n",
    "    \n",
    "#     cdef int[:] intInd = np.array([0,1,2,4,6,8,9])\n",
    "    \n",
    "#     for i in range(0,100):\n",
    "#         b = a[5,ind]\n",
    "        \n",
    "    \n",
    "    \n",
    "#     return b\n",
    "\n",
    "# def main2():\n",
    "# #     cdef np.ndarray[np.double_t,ndim=2] a = np.array([[1,np.nan,3,4],[1,np.nan,3,4]])\n",
    "\n",
    "#     n = 10\n",
    "#     cdef np.ndarray[np.double_t,ndim=2] a = np.random.randn(n,n)\n",
    "    \n",
    "#     cdef np.ndarray[np.double_t,ndim=2] b\n",
    "    \n",
    "#     cdef double[:,:] a_mv = a\n",
    "    \n",
    "#     ind = np.ones(n)\n",
    "#     ind[3] = np.nan\n",
    "#     ind[5] = np.nan\n",
    "#     ind[7] = np.nan\n",
    "    \n",
    "#     cdef int[:] intInd = np.array([0,1,2,4,6,8,9])\n",
    "    \n",
    "#     for i in range(0,100):\n",
    "#         b = a_mv[5,intInd]\n",
    "        \n",
    "    \n",
    "    \n",
    "#     return b"
   ]
  },
  {
   "cell_type": "code",
   "execution_count": null,
   "metadata": {
    "collapsed": false
   },
   "outputs": [],
   "source": [
    "main1()"
   ]
  },
  {
   "cell_type": "code",
   "execution_count": null,
   "metadata": {
    "collapsed": false
   },
   "outputs": [],
   "source": [
    "a = np.empty(2)\n",
    "a[:] = np.array([1,2,3])"
   ]
  },
  {
   "cell_type": "code",
   "execution_count": null,
   "metadata": {
    "collapsed": false
   },
   "outputs": [],
   "source": [
    "x = np.random.randn(5,5)\n",
    "x"
   ]
  },
  {
   "cell_type": "code",
   "execution_count": null,
   "metadata": {
    "collapsed": false
   },
   "outputs": [],
   "source": [
    "x[2,[1,2]]"
   ]
  },
  {
   "cell_type": "code",
   "execution_count": null,
   "metadata": {
    "collapsed": false
   },
   "outputs": [],
   "source": [
    "%%cython \n",
    "cimport cython\n",
    "import numpy as np\n",
    "cimport numpy as np\n",
    "from libc.math cimport isnan\n",
    "\n",
    "\n",
    "\n",
    "def main(np.ndarray[double,ndim=1] a, int n):\n",
    "    cdef double[:] a_mv = a\n",
    "    for i in range(0,n):\n",
    "        print(a_mv[i])\n",
    "        if isnan(a_mv[i]):\n",
    "            print(\"pa\")\n",
    "\n",
    "# @cython.cdivision(True)\n",
    "# @cython.boundscheck(False)\n",
    "# @cython.wraparound(False)\n",
    "# def main2(np.ndarray[double,ndim=2] a,np.ndarray[double,ndim=2] b, int n):\n",
    "    \n",
    "#     cdef double[:,:] a_mv = a\n",
    "#     cdef double[:,:] b_mv = b\n",
    "#     cdef double res = 0\n",
    "    \n",
    "#     for i in range(0,n):\n",
    "#         res += np.dot(a_mv[5,:],b_mv[5,:])\n",
    "\n",
    "#     return res\n",
    "        "
   ]
  },
  {
   "cell_type": "code",
   "execution_count": null,
   "metadata": {
    "collapsed": true
   },
   "outputs": [],
   "source": [
    "a = np.random.randn(10,)\n",
    "b = np.random.randn(10,10)\n",
    "n = 1000"
   ]
  },
  {
   "cell_type": "code",
   "execution_count": null,
   "metadata": {
    "collapsed": false
   },
   "outputs": [],
   "source": [
    "a = np.array([1,np.nan,3,4,5],dtype=np.float64)\n",
    "n = 5\n",
    "main(a,n)"
   ]
  },
  {
   "cell_type": "code",
   "execution_count": null,
   "metadata": {
    "collapsed": false
   },
   "outputs": [],
   "source": [
    "main1(a,b,n)"
   ]
  },
  {
   "cell_type": "code",
   "execution_count": null,
   "metadata": {
    "collapsed": false
   },
   "outputs": [],
   "source": [
    "main2(a,b,n)"
   ]
  },
  {
   "cell_type": "code",
   "execution_count": null,
   "metadata": {
    "collapsed": false
   },
   "outputs": [],
   "source": [
    "%timeit main1(a,b,n)\n",
    "%timeit main2(a,b,n)"
   ]
  },
  {
   "cell_type": "code",
   "execution_count": null,
   "metadata": {
    "collapsed": true
   },
   "outputs": [],
   "source": [
    "x = np.array([1,2,3,9,20])\n",
    "y = np.array([7,8,9,13,133])\n",
    "\n",
    "\n"
   ]
  },
  {
   "cell_type": "code",
   "execution_count": null,
   "metadata": {
    "collapsed": false
   },
   "outputs": [],
   "source": [
    "res = np.outer(x,y)\n",
    "res"
   ]
  },
  {
   "cell_type": "code",
   "execution_count": null,
   "metadata": {
    "collapsed": false
   },
   "outputs": [],
   "source": [
    "i = 4\n",
    "j = 2\n",
    "res[i,j]"
   ]
  },
  {
   "cell_type": "code",
   "execution_count": null,
   "metadata": {
    "collapsed": false
   },
   "outputs": [],
   "source": [
    "x[i]*y[j]"
   ]
  },
  {
   "cell_type": "code",
   "execution_count": null,
   "metadata": {
    "collapsed": false
   },
   "outputs": [],
   "source": [
    "%%cython\n",
    "\n",
    "from libc.math cimport M_PI\n",
    "\n",
    "print(M_PI)"
   ]
  },
  {
   "cell_type": "code",
   "execution_count": null,
   "metadata": {
    "collapsed": true
   },
   "outputs": [],
   "source": []
  }
 ],
 "metadata": {
  "anaconda-cloud": {},
  "kernelspec": {
   "display_name": "Python [Root]",
   "language": "python",
   "name": "Python [Root]"
  },
  "language_info": {
   "codemirror_mode": {
    "name": "ipython",
    "version": 3
   },
   "file_extension": ".py",
   "mimetype": "text/x-python",
   "name": "python",
   "nbconvert_exporter": "python",
   "pygments_lexer": "ipython3",
   "version": "3.5.2"
  }
 },
 "nbformat": 4,
 "nbformat_minor": 0
}
